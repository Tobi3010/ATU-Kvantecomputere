{
 "cells": [
  {
   "cell_type": "markdown",
   "id": "cde050f3-178c-49d2-8141-400cfe9b2409",
   "metadata": {},
   "source": [
    "# IBM Q Exercise 1: Measurement of 1 qubit\n",
    "### Written by Anna Liv Paludan Bjerregaard"
   ]
  },
  {
   "cell_type": "markdown",
   "id": "212aceb6-b5b9-4d50-b76d-6bb1cd000574",
   "metadata": {},
   "source": [
    "This exercise will introdce you to the possibilities in IBM Q and at the same time allow you to explore som very cool quantum physics! \n",
    "You will:\n",
    "\n",
    "1) Produce your first quantum-circuit\n",
    "\n",
    "2) Measure a qubit \n",
    "\n",
    "3) Use operators on this qubit\n",
    "\n",
    "IBM Q uses the code-language Python. Please, dot worry too much about this, we do not expect that you know this in advance. All you need to know to get started is that you press `shift`+`return` to run the code in a given cell - try it out with the block of code below which imports the packages we will need for the exercise!"
   ]
  },
  {
   "cell_type": "code",
   "execution_count": null,
   "id": "abb7b29c-e8bd-4146-84ea-97360fb5fc7f",
   "metadata": {
    "tags": []
   },
   "outputs": [],
   "source": [
    "import numpy as np\n",
    "import matplotlib.pyplot as plt\n",
    "# Importing standard Qiskit libraries\n",
    "from qiskit.providers import Options\n",
    "from qiskit import QuantumCircuit, transpile, assemble\n",
    "from qiskit_aer import AerSimulator\n",
    "from qiskit_ibm_provider import IBMProvider\n",
    "\n",
    "from qiskit.visualization import *\n",
    "from ibm_quantum_widgets import *\n",
    "\n",
    "# Use Statevector object to calculate the ideal output\n",
    "from qiskit.quantum_info import Statevector\n",
    "from qiskit.visualization import plot_histogram\n",
    "\n",
    "# Qiskit Runtime\n",
    "from qiskit_ibm_runtime import QiskitRuntimeService, Batch, Sampler\n",
    "\n",
    "# Loading your IBM Q account(s)\n",
    "provider = IBMProvider()"
   ]
  },
  {
   "cell_type": "markdown",
   "id": "ebff8074-b7b6-4941-8498-739b008c7a41",
   "metadata": {},
   "source": [
    "We start off with a quantum circuit with a single qubit and a measurement device. Run the code below to set up the circuit."
   ]
  },
  {
   "cell_type": "code",
   "execution_count": null,
   "id": "7f004275-ff5a-455a-a6ff-4ccce023c8d1",
   "metadata": {
    "tags": []
   },
   "outputs": [],
   "source": [
    "circuit = QuantumCircuit(1,1) #Circuit with one qubit and one classical bit\n",
    "circuit.measure(0,0) #Measure the first qubit and save the result in the first classical bit\n",
    "circuit.draw() #Draw a circuit ciagram"
   ]
  },
  {
   "cell_type": "markdown",
   "id": "ae5c3d7d-92ff-48ce-837c-d3bf165d12f9",
   "metadata": {},
   "source": [
    "***How to read the diagramme:*** The above diagramme is read from left to right. The line \"q\" indicates a qubit while the \"c\" line indicates a classical bit. The black box with the gauge is the measurement device - it performs a measurement of the qubit'en and stores the resuly in the classical bit.\n",
    "\n",
    "For a start the qubit is always in the state $|0\\rangle$.\n",
    "\n",
    "**Exercise 1:** Which result do you expect will result from the measurement in this circuit?\n",
    "\n",
    "Now try to check with an experiment! \n",
    "\n",
    "The code below takes this circuit, peerforms the corresponding experiment and shows the reslts. The variable `N_measure`determines the number of times the experiment is repeated. "
   ]
  },
  {
   "cell_type": "code",
   "execution_count": null,
   "id": "7ba4b105-566e-4cd3-b7f4-bafcd9214470",
   "metadata": {
    "tags": []
   },
   "outputs": [],
   "source": [
    "N_measure = 100"
   ]
  },
  {
   "cell_type": "code",
   "execution_count": null,
   "id": "836840f3-0a63-4703-bf64-9b736bbb1ef7",
   "metadata": {
    "tags": []
   },
   "outputs": [],
   "source": [
    "simulator = AerSimulator()\n",
    "Nmeasure = N_measure #Amount of times the circuit is run\n",
    "result = simulator.run(circuit, shots=Nmeasure).result() \n",
    "device_counts = result.get_counts() #Saves results as dictionary object\n",
    "    #Simulation code\n",
    "\n",
    "print(device_counts)\n",
    "#plot_histogram(device_counts).savefig('histogram0.png')\n",
    "plot_histogram(device_counts)"
   ]
  },
  {
   "cell_type": "markdown",
   "id": "b868bb85-b8e4-41ac-b610-fa25b147184f",
   "metadata": {},
   "source": [
    "**Exercise:** The histogramme above shows how many times the experiment has given $0$ and $1$. Does the result correspond with your expectation? Do not forget to explain why!"
   ]
  },
  {
   "cell_type": "markdown",
   "id": "e012e720-5c0c-4140-bc9e-8a5631b1e105",
   "metadata": {},
   "source": [
    "Now we will try also to act with the operator $X$ on our qubit."
   ]
  },
  {
   "cell_type": "code",
   "execution_count": null,
   "id": "52e52d0d-3261-4062-a328-ca2f80ea1619",
   "metadata": {
    "tags": []
   },
   "outputs": [],
   "source": [
    "circuitX = QuantumCircuit(1,1)#Circuit with one qubit and one classical bit\n",
    "circuitX.x(0) #Use the X operator on the first qubit\n",
    "circuitX.measure(0,0) #Measure the first qubit and save the result in the first classical bit\n",
    "circuitX.draw() #Draw a circuit diagram"
   ]
  },
  {
   "cell_type": "markdown",
   "id": "e12894d5-2953-4b7b-a08c-08aa58131b22",
   "metadata": {},
   "source": [
    "**Exercise:** Explain the above diagram - recall that it is read from left to right!\n",
    "\n",
    "This circit will set up the qubit in the state $X|0\\rangle$. Which result do you expect to obtain if you now perform a measurement on this state?\n",
    "\n",
    "Check your prediction by rnning the experiment below!"
   ]
  },
  {
   "cell_type": "code",
   "execution_count": null,
   "id": "292c7c9c-d9dd-4d46-9237-bb17ebaff91e",
   "metadata": {
    "tags": []
   },
   "outputs": [],
   "source": [
    "N_measure = 100"
   ]
  },
  {
   "cell_type": "code",
   "execution_count": null,
   "id": "34999843-9c98-46d1-a811-c4ca57b855c3",
   "metadata": {
    "tags": []
   },
   "outputs": [],
   "source": [
    "simulator = AerSimulator()\n",
    "Nmeasure = N_measure #Amount of times the circuit is run\n",
    "result = simulator.run(circuitX, shots=Nmeasure).result() \n",
    "device_counts = result.get_counts() #Saves results as dictionary object\n",
    "#Simulation code\n",
    "\n",
    "print(device_counts)\n",
    "plot_histogram(device_counts)"
   ]
  },
  {
   "cell_type": "markdown",
   "id": "90e71589-d6f7-44ab-80fd-c32969adf764",
   "metadata": {},
   "source": [
    "Now let's try with the operator $H$ - which result do you expect?"
   ]
  },
  {
   "cell_type": "code",
   "execution_count": null,
   "id": "c0a81ffc-05f7-419b-8c78-fb6a87d089c5",
   "metadata": {
    "tags": []
   },
   "outputs": [],
   "source": [
    "circuitH = QuantumCircuit(1,1) #KCirucit with one qubit and one classical bit\n",
    "circuitH.h(0) #Use the H operator on the first qubit\n",
    "circuitH.measure(0,0) \n",
    "circuitH.draw() "
   ]
  },
  {
   "cell_type": "code",
   "execution_count": null,
   "id": "7a90ff59-af09-47a3-b7d5-dbc2f45c191a",
   "metadata": {
    "tags": []
   },
   "outputs": [],
   "source": [
    "N_measure = 10000"
   ]
  },
  {
   "cell_type": "code",
   "execution_count": null,
   "id": "fdaf7c4c-a0f7-4891-8f1a-b2dcc33ae858",
   "metadata": {
    "tags": []
   },
   "outputs": [],
   "source": [
    "simulator = AerSimulator()\n",
    "Nmeasure = N_measure #Amount of times the circuit is run\n",
    "result = simulator.run(circuitH, shots=Nmeasure).result() \n",
    "device_counts = result.get_counts() #Saves results as dictionary object\n",
    "#Simulation code\n",
    "\n",
    "print(device_counts)\n",
    "plot_histogram(device_counts)\n",
    "#plot_histogram(device_counts).savefig('histogramH.png')"
   ]
  },
  {
   "cell_type": "markdown",
   "id": "8f3d000b-66c0-459a-856e-a05d508bc7c9",
   "metadata": {},
   "source": [
    "**Exercise:** Explain why the histogram above came out this way - does it correspond to your expectation? "
   ]
  },
  {
   "cell_type": "markdown",
   "id": "14bb6ef6-c8bc-4c13-82bd-0a219af6a883",
   "metadata": {},
   "source": [
    "**Exercise:** Try to repeat the experiment a single time insetad of 100, by changing `N_measure`. If you only look at the result of the measurement, what can you say about the state of the system before the measurement? \n",
    "\n",
    "**Note:** despite the innocent appearence of this experiment it is a very deep point you have just dicovered! "
   ]
  },
  {
   "cell_type": "markdown",
   "id": "cd3dbf55-48c1-4519-8b94-a03d505f142f",
   "metadata": {},
   "source": [
    "To round off this single qubit exercise we will try to perform two measurements right after one another. For a start we have the qubit in the state $|0\\rangle$ before the measurements. This is set up like this:"
   ]
  },
  {
   "cell_type": "code",
   "execution_count": null,
   "id": "e42b87aa-a7d3-4d9c-a38e-bd34ef81767b",
   "metadata": {
    "tags": []
   },
   "outputs": [],
   "source": [
    "circuitM2 = QuantumCircuit(1,2) \n",
    "circuitM2.measure(0,0) #Measure the first qubit and save the result in the first classical bit\n",
    "circuitM2.measure(0,1) #Measure the first qubit and save the result in the second classical bit\n",
    "circuitM2.draw() "
   ]
  },
  {
   "cell_type": "code",
   "execution_count": null,
   "id": "465ce0cf-bed2-439a-8bfb-19c24508029e",
   "metadata": {
    "tags": []
   },
   "outputs": [],
   "source": [
    "N_measure = 100"
   ]
  },
  {
   "cell_type": "code",
   "execution_count": null,
   "id": "494197cd-ea2c-4754-9c31-91cd22ec2b81",
   "metadata": {
    "tags": []
   },
   "outputs": [],
   "source": [
    "simulator = AerSimulator()\n",
    "Nmeasure = N_measure #Amount of times the circuit is run\n",
    "result = simulator.run(circuitM2, shots=Nmeasure).result() \n",
    "device_counts = result.get_counts() #Saves results as dictionary object\n",
    "#Simulation code\n",
    "\n",
    "print(device_counts)\n",
    "plot_histogram(device_counts)"
   ]
  },
  {
   "cell_type": "markdown",
   "id": "9c596fc8-93d4-4145-a201-e65de8912da6",
   "metadata": {},
   "source": [
    "**How to read the result:** If the result is say, 11 the implies that the first measuremnt yieldes 1 and so did the second. Suppose the result instead was say 01, this means that the first measurement gave 1 and the second gave 0. (Note that the first measurement is the one furthest to the right.) "
   ]
  },
  {
   "cell_type": "markdown",
   "id": "41bfb4dc-392b-4531-bef6-c0da7235acf3",
   "metadata": {},
   "source": [
    "**Exercise:** Try to explain the result. Try also to change the experiment such that the qubit is in the state $\\frac{1}{\\sqrt{2}}(|0\\rangle+|1\\rangle)$ before the two measurements. Again try to explain the result. \n",
    "\n",
    "**Note:** there is again a very deep point in this still quite innocent appearing experiment."
   ]
  },
  {
   "cell_type": "markdown",
   "id": "0be359c3-9fa5-4eba-b5a2-33d51b805d96",
   "metadata": {},
   "source": [
    "**Exercise:** Try to set up a few experiments of your own. You could for instance try to insert an operator between the two measuremets, or insert more oprtarors befor a single measurement, it is up to you! "
   ]
  },
  {
   "cell_type": "markdown",
   "id": "0711a1d8-3d47-427b-a228-a45ff90b5eb6",
   "metadata": {},
   "source": [
    "This exercise has given you a chance to learn a handful of things concerning qubits, operators and measurements - now you should be ready to move on and study operators which acts on more than one qubit at the time and entanglement!"
   ]
  },
  {
   "cell_type": "markdown",
   "id": "4d39dbba-f7cf-4ad5-9207-9e27bb4aeea5",
   "metadata": {},
   "source": [
    "**Ekstra exercise:** What would happen if we produced that state $ZH|0\\rangle$? Which result of the measurement would you expect? Check your prediction below!"
   ]
  },
  {
   "cell_type": "code",
   "execution_count": null,
   "id": "b27cf2e3-bb39-402c-875b-a8dc64b1c460",
   "metadata": {
    "tags": []
   },
   "outputs": [],
   "source": [
    "circuitZH = QuantumCircuit(1,1) \n",
    "circuitZH.h(0) \n",
    "circuitZH.z(0) #Use the Z operator on the first qubit\n",
    "circuitZH.measure(0,0) \n",
    "circuitZH.draw() "
   ]
  },
  {
   "cell_type": "code",
   "execution_count": null,
   "id": "ef846c33-04cc-4aff-8b81-5db5c2f342a4",
   "metadata": {
    "tags": []
   },
   "outputs": [],
   "source": [
    "N_measure = 100"
   ]
  },
  {
   "cell_type": "code",
   "execution_count": null,
   "id": "0c38bb8d-8631-43c4-9822-382ecfce2da1",
   "metadata": {
    "tags": []
   },
   "outputs": [],
   "source": [
    "simulator = AerSimulator()\n",
    "Nmeasure = N_measure #Amount of times the circuit is run\n",
    "result = simulator.run(circuitZH, shots=Nmeasure).result() \n",
    "device_counts = result.get_counts() #Saves results as dictionary object\n",
    "    #Simulation code\n",
    "\n",
    "print(device_counts)\n",
    "plot_histogram(device_counts)"
   ]
  },
  {
   "cell_type": "code",
   "execution_count": null,
   "id": "1481709e-d5b1-42ee-8efe-b679f2dbeaf1",
   "metadata": {},
   "outputs": [],
   "source": []
  }
 ],
 "metadata": {
  "kernelspec": {
   "display_name": "Qiskit v1.0.2 (ipykernel)",
   "language": "python",
   "name": "python3"
  },
  "language_info": {
   "codemirror_mode": {
    "name": "ipython",
    "version": 3
   },
   "file_extension": ".py",
   "mimetype": "text/x-python",
   "name": "python",
   "nbconvert_exporter": "python",
   "pygments_lexer": "ipython3",
   "version": "3.10.8"
  },
  "widgets": {
   "application/vnd.jupyter.widget-state+json": {
    "state": {},
    "version_major": 2,
    "version_minor": 0
   }
  }
 },
 "nbformat": 4,
 "nbformat_minor": 5
}
